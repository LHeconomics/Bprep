{
 "cells": [
  {
   "cell_type": "markdown",
   "id": "b6f63635",
   "metadata": {},
   "source": [
    "## Patience Conditions and Stability Conclusions in Buffer Stock Models\n",
    "\n",
    "   - [\"Aggregating heterogeneous-agent models with permanent income shocks\"](https://doi.org/10.1016/j.jedc.2021.104185)\n",
    "\n",
    "## Authors: [Christopher D. Carroll](http://www.econ2.jhu.edu/people/ccarroll/), [Mateo Velásquez-Giraldo](https://mv77.github.io/)\n",
    "\n",
    "This notebook uses the [Econ-ARK/HARK](https://econ-ark.org) toolkit to examine the circumstances under which a \"balanced growth\" equilibrium will characterize the dynamics of aggregate variables in a small open economy populated by savers whose behavior is described by the [Buffer Stock Theory](https://econ-ark.github.io/BufferStockTheory) of saving ('BST')."
   ]
  },
  {
   "cell_type": "markdown",
   "id": "f7904209",
   "metadata": {},
   "source": [
    "`# Set Up the Computational Environment: (in JupyterLab, click the dots)`"
   ]
  },
  {
   "cell_type": "code",
   "execution_count": 2,
   "id": "9aa2e88a",
   "metadata": {
    "code_folding": [
     0
    ],
    "tags": []
   },
   "outputs": [],
   "source": [
    "# Preliminaries and default setup\n",
    "\n",
    "import numpy as np\n",
    "import pandas as pd\n",
    "from matplotlib import pyplot as plt\n",
    "from copy import copy, deepcopy\n",
    "import logging\n",
    "\n",
    "from HARK.ConsumptionSaving.ConsIndShockModel import (\n",
    "    IndShockConsumerType\n",
    ")\n",
    "\n",
    "from HARK.ConsumptionSaving.tests.test_IndShockConsumerType import (\n",
    "    dict_harmenberg    \n",
    ")\n",
    "\n",
    "# Define a function that gets all the stats we need\n",
    "def sumstats(mat):    \n",
    "    # row means\n",
    "    log_m = np.mean(np.log(mat), axis = 1)\n",
    "    # row st_devs\n",
    "    log_sd = np.std(np.log(mat), axis = 1)\n",
    "    \n",
    "    return {'mean-log': log_m, 'sd-log' : log_sd}\n",
    "\n",
    "# Calculate the moving average\n",
    "def moving_average(x, w):\n",
    "    return np.convolve(x, np.ones(w), 'valid') / w"
   ]
  },
  {
   "cell_type": "markdown",
   "id": "59083a1e-531e-42b8-8626-23b33f305c85",
   "metadata": {},
   "source": [
    "### The Szeidl 'Growth Impatience Condition'\n",
    "\n",
    "$\\newcommand{\\PermShk}{\\pmb{\\Psi}}$\n",
    "$\\newcommand{\\PermGroFac}{\\pmb{\\Phi}}$\n",
    "$\\newcommand{\\pLvl}{\\mathbf{p}}$\n",
    "$\\newcommand{\\Ex}{\\mathbb{E}}$\n",
    "$\\newcommand{\\Rfree}{\\mathsf{R}}$\n",
    "$\\newcommand{\\DiscFac}{\\beta}$\n",
    "$\\newcommand{\\CRRA}{\\rho}$\n",
    "$\\newcommand{\\APFac}{\\text{\\Th}}$\n",
    "$\\newcommand{\\GPFac}{\\APFac/\\PermGroFac}$\n",
    "$\\newcommand{\\mLvl}{\\mathbf{m}}$\n",
    "$\\newcommand{\\cLvl}{\\mathbf{c}}$\n",
    "$\\newcommand{\\mNrm}{m}$\n",
    "$\\newcommand{\\cNrm}{c}$\n",
    "\n",
    "Using the terminology and notation of BST, the labor income process is assumed to incorporate permanent shocks $\\PermShk$ and to exhibit a mean growth factor $\\PermGroFac$; that is, each individual's permanent income evolves according to \n",
    "\\begin{align}\n",
    "\\pLvl_{t+1} & = \\PermGroFac \\PermShk_{t+1} \\pLvl_{t}\n",
    "\\end{align}\n",
    "where $\\Ex_{t}[\\PermShk_{t+n}]=1~\\forall~n>0$\n",
    "\n",
    "Agents with constant relative risk aversion coefficient $\\CRRA$ have a pure time preference factor $\\DiscFac$ and the aggregate interest factor is constant at $\\Rfree$ choose a level of consumption $\\cLvl$ subject to a budget constraint that links current market resources $\\mLvl_{t}$ to next period's $\\mLvl_{t+1}$.\n",
    "\n",
    "<!-- copy trick from BST notebook for rendering thorn -->\n",
    "\n",
    "Defining the [Absolute Patience Factor](https://econ-ark.github.io/BufferStockTheory/BufferStockTheory3.html#APFac) as\n",
    "\\begin{align}\n",
    "\\APFac & = \\left(\\Rfree \\DiscFac\\right)^{1/\\CRRA},\n",
    "\\end{align}\n",
    "and it is easy to show if $\\PermShk_{t+n}=1~\\forall~n$ (that is, there are no 'shocks' to permanent income, and there are also no transitory shocks), the growth factor for the ratio of consumption to permanent income $\\cNrm$ will be\n",
    "\\begin{align}\n",
    "\\GPFac & = \\APFac/\\PermGroFac\n",
    "\\end{align}\n",
    "where $\\Ex_{t}[\\PermShk_{t+n}]=1~\\forall~n>0$\n",
    "\n",
    "Szeidl (2013) shows that the economy will exhibit an invariant distribution of the market resource ratio $\\mNrm$ and other variables as long as what we will call the [Growth Impatience Condition-Szeidl]() holds:\n",
    "\n",
    "\\begin{align}\n",
    "\\log \\GPFac & < \\Ex_{t}[\\Delta \\log \\PermShk_{t+1}]\n",
    "\\end{align}\n",
    "\n",
    "The HARK toolkit contains code to test this condition and others that have a bearing on the nature of the solution to the model.  "
   ]
  },
  {
   "cell_type": "markdown",
   "id": "1ff9d671",
   "metadata": {},
   "source": [
    "# Calibration and Conditions"
   ]
  },
  {
   "cell_type": "code",
   "execution_count": 18,
   "id": "6bac1faa",
   "metadata": {
    "code_folding": [],
    "tags": []
   },
   "outputs": [
    {
     "name": "stderr",
     "output_type": "stream",
     "text": [
      "\n",
      "The Szeidl Growth Patience Factor GPFacSdl=1.01790 violates the Szeidl Growth Impatience Condition (GICSdl), GPFacSdl < 1:\n",
      "    https://econ-ark.github.io/BufferStockTheory/BufferStockTheory3.html#GICSdlDefn\n",
      "\n",
      "    Therefore, invariant distributions of ratio variables like m do not exist.  \n",
      "\n",
      "\n",
      "The Szeidl Growth Patience Factor GPFacSdl=1.01790 violates the Szeidl Growth Impatience Condition (GICSdl), GPFacSdl < 1:\n",
      "    https://econ-ark.github.io/BufferStockTheory/BufferStockTheory3.html#GICSdlDefn\n",
      "    Therefore, invariant distributions of ratio variables like m do not exist.  \n",
      "\n"
     ]
    },
    {
     "name": "stdout",
     "output_type": "stream",
     "text": [
      "......................................................................................................................................................................................................................................................................................................................................................................................................................................................................................................................................................................................................................................................................................................................................................................................................................................................................................"
     ]
    },
    {
     "name": "stderr",
     "output_type": "stream",
     "text": [
      "\n",
      "(quietly=False and messaging_level < logging.WARNING, so some model information is provided below):\n",
      "\n",
      "The model has the following parameter values:\n",
      "\n",
      "\tDiscFac: 0.9558452957176427\n",
      "\tLivPrb: 1.0\n",
      "\tCRRA: 2.0\n",
      "\tRfree: 1.02\n",
      "\tPermGroFac: 1.0\n",
      "\tIncShkDstn: <HARK.distribution.DiscreteDistribution object at 0x7f9fe01428e0>\n",
      "\tPermShkDstn: <HARK.distribution.DiscreteDistribution object at 0x7f9fe095d8e0>\n",
      "\tTranShkDstn: <HARK.distribution.DiscreteDistribution object at 0x7f9fc04caaf0>\n",
      "\tBoroCnstArt: 0.0\n",
      "\tMaxKinks: None\n",
      "\tsolverType: HARK\n",
      "\tsolveMethod: EGM\n",
      "\teventTiming: EOP\n",
      "\thorizon: infinite\n",
      "\targs: ()\n",
      "\n",
      "The model's transition equations are:\n",
      "\n",
      "chosen_to_next_choice step:\n",
      "\tkNrm = aNrm\n",
      "\tRNrm = Rfree / (PermGroFac * PermShk)\n",
      "\tbNrm = kNrm * RNrm\n",
      "\tyNrm = TranShk\n",
      "\tmNrm = bNrm + yNrm\n",
      "\n",
      "choice_to_chosen step:\n",
      "\taNrm = mNrm - cNrm\n",
      "\n",
      "\n",
      "Because messaging_level is >= logging.INFO, infinite horizon conditions are reported below:\n",
      "\n",
      "\n",
      "The Absolute Patience Factor, APFac=0.98740 satisfies the Absolute Impatience Condition (AIC), APFac < 1:\n",
      "    https://econ-ark.github.io/BufferStockTheory/BufferStockTheory3.html#AIC\n",
      "\n",
      "    Because the APFac < 1,  the absolute amount of consumption is expected to fall over time.  \n",
      "\n",
      "\n",
      "The Finite Human Wealth Factor, FHWFac=0.98039 satisfies the Finite Human Wealth Condition (FHWC), FHWFac < 1:\n",
      "    https://econ-ark.github.io/BufferStockTheory/BufferStockTheory3.html#FHWC\n",
      "\n",
      "    Therefore, the limiting consumption function is not c(m)=Infinity.\n",
      "\n",
      "    Human wealth normalized by permanent income is 51.00000.\n",
      "\n",
      "\n",
      "The Return Patience Factor, RPFac=0.96804 satisfies the Return Impatience Condition (RIC), RPFac < 1:\n",
      "    https://econ-ark.github.io/BufferStockTheory/BufferStockTheory3.html#RPFacDefn\n",
      "\n",
      "    Therefore, the limiting consumption function is not c(m)=0 for all m\n",
      "\n",
      "\n",
      "The Normalized Growth Patience Factor GPFacNrm, GPFacNrm=1.02340 violates the Normalized Growth Impatience Condition (GICMod), GPFacNrm < 1:\n",
      "    https://econ-ark.github.io/BufferStockTheory/BufferStockTheory3.html#GICMod\n",
      "\n",
      "    Therefore, a target ratio of individual market resources to individual permanent income does not exist.  \n",
      "\n",
      "\n",
      "The Szeidl Growth Patience Factor GPFacSdl=1.00527 violates the Szeidl Growth Impatience Condition (GICSdl), GPFacSdl < 1:\n",
      "    https://econ-ark.github.io/BufferStockTheory/BufferStockTheory3.html#GICSdlDefn\n",
      "\n",
      "    Therefore, invariant distributions of ratio variables like m do not exist.  \n",
      "\n",
      "\n",
      "The Szeidl Growth Patience Factor GPFacSdl=1.00527 violates the Szeidl Growth Impatience Condition (GICSdl), GPFacSdl < 1:\n",
      "    https://econ-ark.github.io/BufferStockTheory/BufferStockTheory3.html#GICSdlDefn\n",
      "    Therefore, invariant distributions of ratio variables like m do not exist.  \n",
      "\n",
      "\n",
      "The Growth Patience Factor, GPF=0.98740 satisfies the Growth Impatience Condition (GICRaw), GPFac < 1:\n",
      "    https://econ-ark.github.io/BufferStockTheory/BufferStockTheory3.html#GICRaw\n",
      "\n",
      "    Therefore, for a perfect foresight consumer, the ratio of individual wealth to permanent income is expected to fall indefinitely.    \n",
      "\n",
      "\n",
      "The Harmenberg Growth Patience Factor GPFacHrm=0.96993 satisfies the Harmenberg Growth Impatience Condition (GICHrm), GPFacHrm < 1:\n",
      "    https://econ-ark.github.io/BufferStockTheory/BufferStockTheory3.html#GICHrmDefn\n",
      "\n",
      "    Therefore, a target level of the individual market resources ratio m exists.\n",
      "\n",
      "The Mortality Adjusted Growth Patience Factor, GPFacLiv=0.98740 satisfies the Mortality Adjusted Growth Impatience Condition (GICLiv):\n",
      "    https://econ-ark.github.io/BufferStockTheory/BufferStockTheory3.html#GPFacLivDefn\n",
      "\n",
      "    Therefore, a target level of the ratio of aggregate market resources to aggregate permanent income exists.    \n",
      "    https://econ-ark.github.io/BufferStockTheory/BufferStockTheory3.html#GPFacLivDefn\n",
      "\n",
      "\n",
      "The Modigliani Mortality Adjusted Growth Patience Factor, GPFacLivMod=0.98740 satisfies the Mortality Adjusted Growth Impatience Condition (GICLivMod):\n",
      "    https://econ-ark.github.io/BufferStockTheory/BufferStockTheory3.html#GPFacLivModDefn\n",
      "\n",
      "    Therefore, a target level of the ratio of aggregate market resources to aggregate permanent income exists.    \n",
      "https://econ-ark.github.io/BufferStockTheory/BufferStockTheory3.html#GPFacLivModDefn\n",
      "\n",
      "\n",
      "The Finite Value of Autarky Factor, VAFac=0.95585 satisfies the Finite Value of Autarky Condition, VAFac < 1:\n",
      "    https://econ-ark.github.io/BufferStockTheory/BufferStockTheory3.html#FVAC\n",
      "\n",
      "    Therefore, a nondegenerate solution exists if the RIC also holds. (https://econ-ark.github.io/BufferStockTheory/BufferStockTheory3.html#FVAC)\n",
      "\n",
      "\n",
      "(quietly=False and messaging_level < logging.WARNING, so some model information is provided below):\n",
      "\n",
      "The model has the following parameter values:\n",
      "\n",
      "\tDiscFac: 0.9558452957176427\n",
      "\tLivPrb: 1.0\n",
      "\tCRRA: 2.0\n",
      "\tRfree: 1.02\n",
      "\tPermGroFac: 1.0\n",
      "\tIncShkDstn: <HARK.distribution.DiscreteDistribution object at 0x7f9fe01428e0>\n",
      "\tPermShkDstn: <HARK.distribution.DiscreteDistribution object at 0x7f9fe095d8e0>\n",
      "\tTranShkDstn: <HARK.distribution.DiscreteDistribution object at 0x7f9fc04caaf0>\n",
      "\tBoroCnstArt: 0.0\n",
      "\tMaxKinks: None\n",
      "\tsolverType: HARK\n",
      "\tsolveMethod: EGM\n",
      "\teventTiming: EOP\n",
      "\thorizon: infinite\n",
      "\targs: ()\n",
      "\n",
      "The model's transition equations are:\n",
      "\n",
      "chosen_to_next_choice step:\n",
      "\tkNrm = aNrm\n",
      "\tRNrm = Rfree / (PermGroFac * PermShk)\n",
      "\tbNrm = kNrm * RNrm\n",
      "\tyNrm = TranShk\n",
      "\tmNrm = bNrm + yNrm\n",
      "\n",
      "choice_to_chosen step:\n",
      "\taNrm = mNrm - cNrm\n",
      "\n",
      "\n",
      "Because messaging_level is >= logging.INFO, infinite horizon conditions are reported below:\n",
      "\n",
      "\n",
      "The Absolute Patience Factor, APFac=0.98740 satisfies the Absolute Impatience Condition (AIC), APFac < 1:\n",
      "    https://econ-ark.github.io/BufferStockTheory/BufferStockTheory3.html#AIC\n",
      "\n",
      "    Because the APFac < 1,  the absolute amount of consumption is expected to fall over time.  \n",
      "\n",
      "\n",
      "The Finite Human Wealth Factor, FHWFac=0.98039 satisfies the Finite Human Wealth Condition (FHWC), FHWFac < 1:\n",
      "    https://econ-ark.github.io/BufferStockTheory/BufferStockTheory3.html#FHWC\n",
      "\n",
      "    Therefore, the limiting consumption function is not c(m)=Infinity.\n",
      "\n",
      "    Human wealth normalized by permanent income is 51.00000.\n",
      "\n",
      "\n",
      "The Return Patience Factor, RPFac=0.96804 satisfies the Return Impatience Condition (RIC), RPFac < 1:\n",
      "    https://econ-ark.github.io/BufferStockTheory/BufferStockTheory3.html#RPFacDefn\n",
      "\n",
      "    Therefore, the limiting consumption function is not c(m)=0 for all m\n",
      "\n",
      "\n",
      "The Normalized Growth Patience Factor GPFacNrm, GPFacNrm=1.02340 violates the Normalized Growth Impatience Condition (GICMod), GPFacNrm < 1:\n",
      "    https://econ-ark.github.io/BufferStockTheory/BufferStockTheory3.html#GICMod\n",
      "\n",
      "    Therefore, a target ratio of individual market resources to individual permanent income does not exist.  \n",
      "\n",
      "\n",
      "The Szeidl Growth Patience Factor GPFacSdl=1.00527 violates the Szeidl Growth Impatience Condition (GICSdl), GPFacSdl < 1:\n",
      "    https://econ-ark.github.io/BufferStockTheory/BufferStockTheory3.html#GICSdlDefn\n",
      "\n",
      "    Therefore, invariant distributions of ratio variables like m do not exist.  \n",
      "\n",
      "\n",
      "The Szeidl Growth Patience Factor GPFacSdl=1.00527 violates the Szeidl Growth Impatience Condition (GICSdl), GPFacSdl < 1:\n",
      "    https://econ-ark.github.io/BufferStockTheory/BufferStockTheory3.html#GICSdlDefn\n",
      "    Therefore, invariant distributions of ratio variables like m do not exist.  \n",
      "\n",
      "\n",
      "The Growth Patience Factor, GPF=0.98740 satisfies the Growth Impatience Condition (GICRaw), GPFac < 1:\n",
      "    https://econ-ark.github.io/BufferStockTheory/BufferStockTheory3.html#GICRaw\n",
      "\n",
      "    Therefore, for a perfect foresight consumer, the ratio of individual wealth to permanent income is expected to fall indefinitely.    \n",
      "\n",
      "\n",
      "The Harmenberg Growth Patience Factor GPFacHrm=0.96993 satisfies the Harmenberg Growth Impatience Condition (GICHrm), GPFacHrm < 1:\n",
      "    https://econ-ark.github.io/BufferStockTheory/BufferStockTheory3.html#GICHrmDefn\n",
      "\n",
      "    Therefore, a target level of the individual market resources ratio m exists.\n",
      "\n",
      "The Mortality Adjusted Growth Patience Factor, GPFacLiv=0.98740 satisfies the Mortality Adjusted Growth Impatience Condition (GICLiv):\n",
      "    https://econ-ark.github.io/BufferStockTheory/BufferStockTheory3.html#GPFacLivDefn\n",
      "\n",
      "    Therefore, a target level of the ratio of aggregate market resources to aggregate permanent income exists.    \n",
      "    https://econ-ark.github.io/BufferStockTheory/BufferStockTheory3.html#GPFacLivDefn\n",
      "\n",
      "\n",
      "The Modigliani Mortality Adjusted Growth Patience Factor, GPFacLivMod=0.98740 satisfies the Mortality Adjusted Growth Impatience Condition (GICLivMod):\n",
      "    https://econ-ark.github.io/BufferStockTheory/BufferStockTheory3.html#GPFacLivModDefn\n",
      "\n",
      "    Therefore, a target level of the ratio of aggregate market resources to aggregate permanent income exists.    \n",
      "https://econ-ark.github.io/BufferStockTheory/BufferStockTheory3.html#GPFacLivModDefn\n",
      "\n",
      "\n",
      "The Finite Value of Autarky Factor, VAFac=0.95585 satisfies the Finite Value of Autarky Condition, VAFac < 1:\n",
      "    https://econ-ark.github.io/BufferStockTheory/BufferStockTheory3.html#FVAC\n",
      "\n",
      "    Therefore, a nondegenerate solution exists if the RIC also holds. (https://econ-ark.github.io/BufferStockTheory/BufferStockTheory3.html#FVAC)\n",
      "\n",
      "\n",
      "The Szeidl Growth Patience Factor GPFacSdl=1.00527 violates the Szeidl Growth Impatience Condition (GICSdl), GPFacSdl < 1:\n",
      "    https://econ-ark.github.io/BufferStockTheory/BufferStockTheory3.html#GICSdlDefn\n",
      "\n",
      "    Therefore, invariant distributions of ratio variables like m do not exist.  \n",
      "\n",
      "\n",
      "The Szeidl Growth Patience Factor GPFacSdl=1.00527 violates the Szeidl Growth Impatience Condition (GICSdl), GPFacSdl < 1:\n",
      "    https://econ-ark.github.io/BufferStockTheory/BufferStockTheory3.html#GICSdlDefn\n",
      "    Therefore, invariant distributions of ratio variables like m do not exist.  \n",
      "\n"
     ]
    },
    {
     "name": "stdout",
     "output_type": "stream",
     "text": [
      ".........."
     ]
    }
   ],
   "source": [
    "# Create an infinite horizon agent with the default parametrization\n",
    "DiscFac = 0.98\n",
    "PShkStd = 0.20\n",
    "PShkVar = PShkStd**2\n",
    "PShk_add = PShkVar/2\n",
    "\n",
    "params_test = copy(dict_harmenberg)\n",
    "\n",
    "params = {\n",
    "    'LivPrb': [1.0],\n",
    "    'PermGroFac': [1.0],\n",
    "    'DiscFac': DiscFac,\n",
    "    'CRRA': 2.0,\n",
    "    'Rfree': 1 + PShkVar/2,\n",
    "    'PermShkStd': [PShkStd],\n",
    "    'PermShkCount': 5,\n",
    "    'TranShkStd': [0.1],\n",
    "    'TranShkCount': 5,\n",
    "    'UnempPrb': 0.05,\n",
    "}\n",
    "\n",
    "params_test.update(params)\n",
    "\n",
    "base = IndShockConsumerType(**params_test,quietly=True, messaging_level=logging.CRITICAL)\n",
    "base.cycles = 0  # Inf hor \n",
    "base.tolerance = base.tolerance/100 # Insist on accurate soln\n",
    "base.check_conditions(quietly=True,messaging_level=logging.CRITICAL) # Suppress messages\n",
    "soln=base.solution[0]\n",
    "soln.check_GICSdl(soln)\n",
    "DiscGPFacSdlCusp=base.solution[0].Bilt.DiscGPFacSdlCusp\n",
    "params = {'DiscFac':DiscGPFacSdlCusp+0.01}\n",
    "params_test.update(params)\n",
    "base = IndShockConsumerType(**params_test,quietly=True, messaging_level=logging.CRITICAL)\n",
    "base.cycles = 0  # Inf hor \n",
    "base.tolerance = base.tolerance/100 # Insist on accurate soln\n",
    "# Again increase the range\n",
    "base.aXtraMax = base.aXtraMax * 10\n",
    "\n",
    "# and gridpoints\n",
    "base.aXtraCount = base.aXtraCount * 2\n",
    "\n",
    "base.update_assets_grid()\n",
    "\n",
    "# and decrease error tolerance\n",
    "base.tolerance = base.tolerance/100\n",
    "base.solution[0].Bilt.stge_kind['iter_status'] = 'iterator'\n",
    "# continue solving\n",
    "base.solve(messaging_level=logging.DEBUG, quietly=False)\n",
    "\n",
    "base.check_conditions(quietly=True,messaging_level=logging.CRITICAL) # Suppress messages\n",
    "base.solve()\n",
    "soln=base.solution[0]\n",
    "soln.check_GICSdl(soln)\n"
   ]
  },
  {
   "cell_type": "markdown",
   "id": "9b89307c-25d8-4785-8875-d950de8a4313",
   "metadata": {},
   "source": [
    "\\begin{align}\n",
    "(\\Rfree \\DiscFac)^{1/\\CRRA} & = \\PermGroFac \\exp(\\Ex_{t}[\\log \\PermShk_{t+1}])\n",
    "\\\\ \\DiscFac & = \\Rfree^{-1}\\left(\\PermGroFac \\exp(\\Ex_{t}[\\log \\PermShk_{t+1}])\\right)^{\\CRRA}\n",
    "\\end{align}"
   ]
  },
  {
   "cell_type": "markdown",
   "id": "d8ac7a04-d466-4d7d-ab75-762f7c9a2843",
   "metadata": {
    "tags": []
   },
   "source": [
    "### Confirmation by Simulation\n",
    "\n",
    "We can confirm the proposition numerically by simulating the behavior of a large number of such consumers.  "
   ]
  },
  {
   "cell_type": "code",
   "execution_count": 19,
   "id": "cb69b131-586c-4450-9b48-2f4ef8cb671e",
   "metadata": {},
   "outputs": [
    {
     "name": "stderr",
     "output_type": "stream",
     "text": [
      "The model has already been solved.\n"
     ]
    }
   ],
   "source": [
    "base.T_sim = 5000\n",
    "base.AgentCount = 20000\n",
    "base.track_vars=[ 'mNrm','cNrm','pLvl','PermShk','TranShk']\n",
    "base.solve(quietly=True,messaging_level=logging.CRITICAL)\n",
    "\n",
    "popn=deepcopy(base)  # popn signifies population weighted\n",
    "\n",
    "popn.update_income_process()\n",
    "popn.initialize_sim()\n",
    "popn.simulate()\n",
    "\n",
    "C_popn = np.mean(popn.history['cNrm'] * popn.history['pLvl'], axis = 1)\n",
    "P_popn = np.mean(popn.history['pLvl'], axis = 1)\n",
    "PermShk_popn = np.mean(popn.history['PermShk'], axis = 1)\n",
    "\n",
    "m_dstn_popn = deepcopy(popn.history['mNrm'])\n",
    "P_dstn_popn = deepcopy(popn.history['pLvl'])"
   ]
  },
  {
   "cell_type": "code",
   "execution_count": 21,
   "id": "08e5439b-3cf7-4b38-a1be-7f4f976e31ba",
   "metadata": {},
   "outputs": [
    {
     "data": {
      "image/png": "[encoded data removed]",
      "text/plain": [
       "<Figure size 432x288 with 1 Axes>"
      ]
     },
     "metadata": {
      "needs_background": "light"
     },
     "output_type": "display_data"
    }
   ],
   "source": [
    "burnin=500\n",
    "mv_avg_len=1000\n",
    "# Growth rates of aggregate consumption\n",
    "c_growth_popn = moving_average(np.diff(np.log(C_popn[burnin:])),mv_avg_len)\n",
    "\n",
    "plt.figure()\n",
    "plt.plot(c_growth_popn, label = 'popn')\n",
    "#plt.plot(c_growth_ntrl, label = 'ntrl')\n",
    "#plt.plot(c_growth_norm, label = 'norm')\n",
    "#plt.plot(c_growth_nmnt, label = 'nmnt')\n",
    "plt.legend()\n",
    "plt.show()"
   ]
  },
  {
   "cell_type": "code",
   "execution_count": 22,
   "id": "5c86f94b-dfc5-4984-97ad-51ecd14edc4b",
   "metadata": {},
   "outputs": [
    {
     "data": {
      "image/png": "[encoded data removed]",
      "text/plain": [
       "<Figure size 432x288 with 1 Axes>"
      ]
     },
     "metadata": {
      "needs_background": "light"
     },
     "output_type": "display_data"
    },
    {
     "data": {
      "image/png": "[encoded data removed]",
      "text/plain": [
       "<Figure size 432x288 with 1 Axes>"
      ]
     },
     "metadata": {
      "needs_background": "light"
     },
     "output_type": "display_data"
    }
   ],
   "source": [
    "popn_m_stats = sumstats(m_dstn_popn)\n",
    "\n",
    "avg_max=np.max(popn_m_stats['mean-log'][burnin:])*1.1\n",
    "avg_min=np.min(popn_m_stats['mean-log'][burnin:])*0.9\n",
    "std_max=np.max(popn_m_stats['sd-log'][burnin:])*1.1\n",
    "std_min=np.min(popn_m_stats['sd-log'][burnin:])*0.9\n",
    "\n",
    "characts = ['mean-log', 'sd-log']\n",
    "c_min, c_max = avg_min, avg_max\n",
    "i=0\n",
    "for c in characts:\n",
    "    i = i+1\n",
    "    if i == 2:\n",
    "        c_min, c_max = std_min, std_max\n",
    "    fig, ax1 = plt.subplots(1, 1)\n",
    "    fig.suptitle(c + ' mNrm')\n",
    "    ax1.plot(popn_m_stats[c][burnin:])\n",
    "    ax1.set_title('popn')\n",
    "#    ax1.set_ylabel(c)\n",
    "    ax1.set_xlabel('time')\n",
    "    plt.show()"
   ]
  },
  {
   "cell_type": "markdown",
   "id": "cc7efe9b-b1ef-4503-b5a1-1bd05a72ff11",
   "metadata": {},
   "source": [
    "### Outline for rest of notebook:\n",
    "\n",
    "\n",
    "#### GICSdl Fails, GICRaw Holds\n",
    "\n",
    "Do parallel analysis to the above for a case where the GICSdl fails (set the time pref factor so that the GPFacSdl is halfway between the Sdl 'cusp' and the 'cusp' for the raw GIC\n",
    "\n",
    "Note the interesting fact that though the mean and standard deviations do not converge, the growth rate of consumption DOES\n",
    "\n",
    "#### Introduce Harmenberg Condition\n",
    "\n",
    "Describe GICHrm and then show that the example above satisfies \"GICHrm Holds\"\n",
    "\n",
    "Add plots for the neutral measure of $m$ and show that the simulated results confirm Harm the way the original sims confirmed Sdl\n",
    "\n",
    "Finally, briefly refer to and recap the new 'conjecture' in the last section of BST, with the  sim evidence from the appendix strongly suggesting that the $\\Omega$ terms are constant.\n",
    "\n",
    "#### GICHrm Holds, GICRaw Fails\n",
    "\n",
    "Further plots showing by simulation that in the GICHrm-Holds, GICRaw-Fails case, the growth rate of consumption asymptotes to APFac but that it seems that the neutral measure does NOT behave well (there is a 'noise catastrophe').  \n",
    "\n",
    "Speculate that this reflects the failure of the 'mixing' condition required to apply the tools used in the Szeidl proof.\n"
   ]
  },
  {
   "cell_type": "markdown",
   "id": "9965b861-1c52-4529-867f-cb69d7db9cd1",
   "metadata": {},
   "source": [
    "Remaining content below is preserved as a resource for constructing the envisioned notebook above.  It should be deleted in the final version of the notebook we send to Szeidl.  However, a separate notebook (with _private_ somewhere in the filename) should be preserved to illustrate the point that the normalization trick can be used with the Harmenberg trick, and that for small samples the deployment of the two tricks together drastically improves noise (which is my preliminary conclusion)."
   ]
  },
  {
   "cell_type": "markdown",
   "id": "912977fd",
   "metadata": {
    "tags": []
   },
   "source": [
    "## Check Harmenberg + Szeidl"
   ]
  },
  {
   "cell_type": "code",
   "execution_count": 6,
   "id": "f828df8c",
   "metadata": {},
   "outputs": [
    {
     "name": "stdout",
     "output_type": "stream",
     "text": [
      "e_log_PermShk_Sdl -0.004484632660240229\n",
      "e_log_PermShk_Hrm 0.004479640505986558\n",
      "Szeidl's condition is satisfied, there is a stable invariant distribution of normalized market resources\n",
      "The GPFacSdl =  0.9968819210938099\n",
      "Harmenberg's condition is satisfied, there is a stable invariant permanent-income-weighted distribution\n",
      "The GPFacHrm =  0.9879855336370519\n"
     ]
    }
   ],
   "source": [
    "from HARK.distribution import calc_expectation\n",
    "\n",
    "thorn_G = (base.Rfree * base.DiscFac) ** (1/base.CRRA) / base.PermGroFac[0]\n",
    "\n",
    "e_log_PermShk_Sdl = calc_expectation(base.PermShkDstn[0], func = lambda x: np.log(x))\n",
    "e_log_PermShk_Hrm = calc_expectation(base.PermShkDstn[0], func = lambda x: x*np.log(x))\n",
    "\n",
    "cdtn_szeidl = np.log(thorn_G) < e_log_PermShk_Sdl\n",
    "cdtn_harmen = np.log(thorn_G) < e_log_PermShk_Hrm\n",
    "\n",
    "print('e_log_PermShk_Sdl',e_log_PermShk_Sdl)\n",
    "print('e_log_PermShk_Hrm',e_log_PermShk_Hrm)\n",
    "\n",
    "if cdtn_szeidl:\n",
    "    print(\"Szeidl's condition is satisfied, there is a stable invariant distribution of normalized market resources\")\n",
    "    print(\"The GPFacSdl = \",thorn_G/np.exp(e_log_PermShk_Sdl))\n",
    "else:\n",
    "    print(\"Warning: Szeidl's condition is not satisfied\")\n",
    "if cdtn_harmen:\n",
    "    print(\"Harmenberg's condition is satisfied, there is a stable invariant permanent-income-weighted distribution\")\n",
    "    print(\"The GPFacHrm = \",thorn_G/np.exp(e_log_PermShk_Hrm))\n",
    "else:\n",
    "    print(\"Warning: Harmenberg's condition is not satisfied\")"
   ]
  },
  {
   "cell_type": "code",
   "execution_count": 8,
   "id": "f5fe6220-95d6-4e7b-8cf4-50ec6602d0a7",
   "metadata": {},
   "outputs": [
    {
     "name": "stdout",
     "output_type": "stream",
     "text": [
      ".................................................................................................................................................................................................................................................................................................................................................................................................................................................................................................................................................................................................................................................................................................................................................................................................................................................................................................................................................................................................................................................................................................................................................................................................................................................................................................................................................................................................................................................................................................................................................................................................................................................................................................................................................."
     ]
    }
   ],
   "source": [
    "base.solve(quietly=False,messaging_level=logging.WARNING)"
   ]
  },
  {
   "cell_type": "code",
   "execution_count": 23,
   "id": "c5385a13-3f43-48ca-8480-2be8e6747cfe",
   "metadata": {},
   "outputs": [],
   "source": [
    "# Simulation specs revise if desired\n",
    "popn = deepcopy(base)\n",
    "ntrl = deepcopy(base) # ntrl = neutral\n",
    "norm = deepcopy(base) # norm = normalized\n",
    "nmnt = deepcopy(base) # neutral and normalized (to see whether they work well together)"
   ]
  },
  {
   "cell_type": "markdown",
   "id": "abdb2652",
   "metadata": {},
   "source": [
    "# Simulation"
   ]
  },
  {
   "cell_type": "code",
   "execution_count": 24,
   "id": "67b2753c",
   "metadata": {},
   "outputs": [],
   "source": [
    "# Popn\n",
    "popn.update_income_process()\n",
    "popn.initialize_sim()\n",
    "popn.simulate()\n",
    "\n",
    "C_popn = np.mean(popn.history['cNrm'] * popn.history['pLvl'], axis = 1)\n",
    "P_popn = np.mean(popn.history['pLvl'], axis = 1)\n",
    "PermShk_popn = np.mean(popn.history['PermShk'], axis = 1)\n",
    "\n",
    "m_dstn_popn = deepcopy(popn.history['mNrm'])\n",
    "P_dstn_popn = deepcopy(popn.history['pLvl'])"
   ]
  },
  {
   "cell_type": "code",
   "execution_count": 25,
   "id": "b4650544",
   "metadata": {},
   "outputs": [],
   "source": [
    "# Permanent Income Neutral\n",
    "ntrl.neutral_measure = True\n",
    "ntrl.update_income_process()\n",
    "ntrl.initialize_sim()\n",
    "ntrl.simulate()\n",
    "\n",
    "C_ntrl = np.mean(ntrl.history['cNrm'], axis = 1)\n",
    "P_ntrl = np.mean(ntrl.history['pLvl'], axis = 1)\n",
    "PermShk_ntrl = np.mean(ntrl.history['PermShk'], axis = 1)\n",
    "\n",
    "m_dstn_ntrl = deepcopy(ntrl.history['mNrm'])\n",
    "P_dstn_ntrl = deepcopy(ntrl.history['pLvl'])"
   ]
  },
  {
   "cell_type": "code",
   "execution_count": 26,
   "id": "6409996e",
   "metadata": {},
   "outputs": [],
   "source": [
    "# Normed\n",
    "norm.normalize_levels = True\n",
    "norm.normalize_shocks = True\n",
    "#norm.update_income_process()\n",
    "\n",
    "norm.initialize_sim()\n",
    "norm.simulate()\n",
    "C_norm = np.mean(norm.history['cNrm'] * norm.history['pLvl'], axis = 1)\n",
    "P_norm = np.mean(norm.history['pLvl'], axis = 1)\n",
    "PermShk_norm = np.mean(norm.history['pLvl'], axis = 1)\n",
    "\n",
    "m_dstn_norm = deepcopy(norm.history['mNrm'])\n",
    "P_dstn_norm = deepcopy(norm.history['pLvl'])"
   ]
  },
  {
   "cell_type": "code",
   "execution_count": 27,
   "id": "83cb5855-93be-40c3-9d4b-d7ddc996e4bf",
   "metadata": {},
   "outputs": [],
   "source": [
    "# Normed and neutralized\n",
    "nmnt = deepcopy(base)\n",
    "nmnt.neutral_measure = True\n",
    "nmnt.normalize_levels = True\n",
    "nmnt.normalize_shocks = True\n",
    "\n",
    "nmnt.update_income_process()\n",
    "nmnt.initialize_sim()\n",
    "nmnt.simulate()\n",
    "\n",
    "C_nmnt = np.mean(nmnt.history['cNrm'] * nmnt.history['pLvl'], axis = 1)\n",
    "P_nmnt = np.mean(nmnt.history['pLvl'], axis = 1)\n",
    "PermShk_nmnt = np.mean(nmnt.history['pLvl'], axis = 1)\n",
    "\n",
    "m_dstn_nmnt = deepcopy(nmnt.history['mNrm'])\n",
    "P_dstn_nmnt = deepcopy(nmnt.history['pLvl'])"
   ]
  },
  {
   "cell_type": "code",
   "execution_count": 28,
   "id": "e4a9a871",
   "metadata": {
    "lines_to_next_cell": 2
   },
   "outputs": [
    {
     "data": {
      "image/png": "[encoded data removed]",
      "text/plain": [
       "<Figure size 432x288 with 1 Axes>"
      ]
     },
     "metadata": {
      "needs_background": "light"
     },
     "output_type": "display_data"
    }
   ],
   "source": [
    "burnin=500\n",
    "def moving_average(x, w):\n",
    "    return np.convolve(x, np.ones(w), 'valid') / w\n",
    "\n",
    "mv_avg_len=500\n",
    "# Growth rates of aggregate consumption\n",
    "c_growth_popn = moving_average(np.diff(np.log(C_popn[burnin:])),mv_avg_len)\n",
    "c_growth_ntrl = moving_average(np.diff(np.log(C_ntrl[burnin:])),mv_avg_len)\n",
    "c_growth_norm = moving_average(np.diff(np.log(C_norm[burnin:])),mv_avg_len)\n",
    "c_growth_nmnt = moving_average(np.diff(np.log(C_nmnt[burnin:])),mv_avg_len)\n",
    "\n",
    "plt.figure()\n",
    "plt.plot(c_growth_popn, label = 'popn')\n",
    "plt.plot(c_growth_ntrl, label = 'ntrl')\n",
    "#plt.plot(c_growth_norm, label = 'norm')\n",
    "#plt.plot(c_growth_nmnt, label = 'nmnt')\n",
    "plt.legend()\n",
    "plt.show()"
   ]
  },
  {
   "cell_type": "code",
   "execution_count": 35,
   "id": "438a6ebe",
   "metadata": {},
   "outputs": [
    {
     "data": {
      "image/png": "[encoded data removed]",
      "text/plain": [
       "<Figure size 432x288 with 1 Axes>"
      ]
     },
     "metadata": {
      "needs_background": "light"
     },
     "output_type": "display_data"
    }
   ],
   "source": [
    "plt.figure()\n",
    "#plt.plot(P_popn, label = 'popn')\n",
    "#plt.plot(P_ntrl, label = 'ntrl')\n",
    "plt.plot(P_norm, label = 'norm')\n",
    "plt.plot(P_nmnt, label = 'nmnt')\n",
    "plt.legend()\n",
    "plt.show()"
   ]
  },
  {
   "cell_type": "markdown",
   "id": "b7520236",
   "metadata": {},
   "source": [
    "# Means and variances over time"
   ]
  },
  {
   "cell_type": "code",
   "execution_count": 30,
   "id": "d5898963",
   "metadata": {},
   "outputs": [],
   "source": [
    "popn_m_stats = sumstats(m_dstn_popn)\n",
    "ntrl_m_stats = sumstats(m_dstn_ntrl)\n",
    "norm_m_stats = sumstats(m_dstn_norm)\n",
    "nmnt_m_stats = sumstats(m_dstn_nmnt)\n",
    "\n",
    "P_popn_stats = sumstats(P_dstn_popn)\n",
    "P_ntrl_stats = sumstats(P_dstn_ntrl)\n",
    "P_norm_stats = sumstats(P_dstn_norm)\n",
    "P_nmnt_stats = sumstats(P_dstn_nmnt)"
   ]
  },
  {
   "cell_type": "code",
   "execution_count": 31,
   "id": "1d623c21",
   "metadata": {},
   "outputs": [
    {
     "data": {
      "image/png": "[encoded data removed]",
      "text/plain": [
       "<Figure size 432x288 with 4 Axes>"
      ]
     },
     "metadata": {
      "needs_background": "light"
     },
     "output_type": "display_data"
    },
    {
     "data": {
      "image/png": "[encoded data removed]",
      "text/plain": [
       "<Figure size 432x288 with 4 Axes>"
      ]
     },
     "metadata": {
      "needs_background": "light"
     },
     "output_type": "display_data"
    }
   ],
   "source": [
    "# Plots\n",
    "avg_max=np.max([np.max(popn_m_stats['mean-log'][burnin:]),\n",
    "       np.max(ntrl_m_stats['mean-log'][burnin:]*1.3),\n",
    "       np.max(norm_m_stats['mean-log'][burnin:])]\n",
    "      )*1.1\n",
    "avg_min=np.min([np.min(popn_m_stats['mean-log'][burnin:]),\n",
    "       np.min(ntrl_m_stats['mean-log'][burnin:]*1.3),\n",
    "       np.min(norm_m_stats['mean-log'][burnin:])]\n",
    "      )*0.9\n",
    "std_max=np.max([np.max(popn_m_stats['sd-log'][burnin:]),\n",
    "       np.max(ntrl_m_stats['sd-log'][burnin:]*0.9/0.5),\n",
    "       np.max(norm_m_stats['sd-log'][burnin:])]\n",
    "      )*1.1\n",
    "std_min=np.min([np.min(popn_m_stats['sd-log'][burnin:]),\n",
    "       np.min(ntrl_m_stats['sd-log'][burnin:]*0.9/0.5),\n",
    "       np.min(norm_m_stats['sd-log'][burnin:])]\n",
    "      )*0.9\n",
    "\n",
    "characts = ['mean-log', 'sd-log']\n",
    "c_min, c_max = avg_min, avg_max\n",
    "i=0\n",
    "for c in characts:\n",
    "    i = i+1\n",
    "    if i == 2:\n",
    "        c_min, c_max = std_min, std_max\n",
    "    fig, (ax1, ax2, ax3, ax4) = plt.subplots(1, 4)\n",
    "    fig.suptitle(c + ' mNrm')\n",
    "    ax1.plot(popn_m_stats[c][burnin:])\n",
    "    ax1.set_title('popn')\n",
    "#    ax1.set_ylabel(c)\n",
    "    ax1.set_xlabel('time')\n",
    "#    ax1.set_ylim([c_min,c_max])\n",
    "    ax2.plot(ntrl_m_stats[c][burnin:]*0.9/0.5) # rescale to fit on common axis\n",
    "    ax2.set_title('ntrl')\n",
    "#    ax2.set_ylabel(c)\n",
    "    ax2.set_xlabel('time')\n",
    "#    ax2.set_ylim([c_min,c_max])\n",
    "    ax3.plot(norm_m_stats[c][burnin:])\n",
    "    ax3.set_title('norm')\n",
    "#    ax3.set_ylabel(c)\n",
    "    ax3.set_xlabel('time')\n",
    "#    ax3.set_ylim([c_min,c_max])\n",
    "    ax4.plot(nmnt_m_stats[c][burnin:])\n",
    "    ax4.set_title('nmnt')\n",
    "#    ax3.set_ylabel(c)\n",
    "    ax4.set_xlabel('time')\n",
    "#    ax4.set_ylim([c_min,c_max])\n",
    "    plt.show()"
   ]
  },
  {
   "cell_type": "code",
   "execution_count": 39,
   "id": "d2085ecb-fae0-48c2-b957-6056af7ccea5",
   "metadata": {},
   "outputs": [
    {
     "name": "stderr",
     "output_type": "stream",
     "text": [
      "\n",
      "The Absolute Patience Factor, APFac=0.99747 satisfies the Absolute Impatience Condition (AIC), APFac < 1:\n",
      "    https://econ-ark.github.io/BufferStockTheory/BufferStockTheory3.html#AIC\n",
      "\n",
      "    Because the APFac < 1,  the absolute amount of consumption is expected to fall over time.  \n",
      "\n",
      "\n",
      "The Finite Human Wealth Factor, FHWFac=0.99502 satisfies the Finite Human Wealth Condition (FHWC), FHWFac < 1:\n",
      "    https://econ-ark.github.io/BufferStockTheory/BufferStockTheory3.html#FHWC\n",
      "\n",
      "    Therefore, the limiting consumption function is not c(m)=Infinity.\n",
      "\n",
      "    Human wealth normalized by permanent income is 201.00000.\n",
      "\n",
      "\n",
      "The Return Patience Factor, RPFac=0.99251 satisfies the Return Impatience Condition (RIC), RPFac < 1:\n",
      "    https://econ-ark.github.io/BufferStockTheory/BufferStockTheory3.html#RPFacDefn\n",
      "\n",
      "    Therefore, the limiting consumption function is not c(m)=0 for all m\n",
      "\n",
      "\n",
      "The Growth Patience Factor, GPF=0.99747 satisfies the Growth Impatience Condition (GICRaw), GPF < 1:\n",
      "    https://econ-ark.github.io/BufferStockTheory/BufferStockTheory3.html#GICRaw\n",
      "\n",
      "    Therefore, for a perfect foresight consumer, the ratio of individual wealth to permanent income is expected to fall indefinitely.    \n",
      "\n",
      "\n",
      "The Normalized Growth Patience Factor GPFacNrm, GPFacNrm=1.00645 violates the Normalized Growth Impatience Condition (GICMod), GPFacNrm < 1:\n",
      "    https://econ-ark.github.io/BufferStockTheory/BufferStockTheory3.html#GICMod\n",
      "\n",
      "    Therefore, a target ratio of individual market resources to individual permanent income does not exist.  \n",
      "\n",
      "\n",
      "The Normalized Growth Patience Factor GPFacNrm, GPFacNrm=1.00645 violates the Normalized Growth Impatience Condition (GICMod), GPFacNrm < 1:\n",
      "    https://econ-ark.github.io/BufferStockTheory/BufferStockTheory3.html#GICMod\n",
      "    Therefore, a target ratio of individual market resources to individual permanent income does not exist.  \n",
      "\n",
      "\n",
      "The Szeidl Growth Patience Factor GPFacSdl, GPFacSdl=0.99301 satisfies the Szeidl Growth Impatience Condition (GICSdl), GPFacSdl < 1:\n",
      "    https://econ-ark.github.io/BufferStockTheory/BufferStockTheory3.html#GICSdlDefn\n",
      "\n",
      "    Therefore, a target level of the individual market resources ratio m exists.\n",
      "\n",
      "The Harmenberg Growth Patience Factor GPFacHrm, GPFacHrm=1.00195 violates the Harmenberg Growth Impatience Condition (GICHrm), GPFacHrm < 1:\n",
      "    https://econ-ark.github.io/BufferStockTheory/BufferStockTheory3.html#GICHrmDefn\n",
      "\n",
      "    Therefore, a target ratio of individual market resources to individual permanent income does not exist.  \n",
      "\n",
      "\n",
      "The Harmenberg Growth Patience Factor GPFacHrm, GPFacHrm=1.00195 violates the Harmenberg Growth Impatience Condition (GICHrm), GPFacHrm < 1:\n",
      "    https://econ-ark.github.io/BufferStockTheory/BufferStockTheory3.html#GICHrmDefn\n",
      "    Therefore, a target ratio of individual market resources to individual permanent income does not exist.  \n",
      "\n",
      "\n",
      "The Mortality Adjusted Growth Patience Factor, GPFacLiv=0.99747 satisfies the Mortality Adjusted Growth Impatience Condition (GICLiv):\n",
      "    https://econ-ark.github.io/BufferStockTheory/BufferStockTheory3.html#GPFacLivDefn\n",
      "\n",
      "    Therefore, a target level of the ratio of aggregate market resources to aggregate permanent income exists.    \n",
      "    https://econ-ark.github.io/BufferStockTheory/BufferStockTheory3.html#GPFacLivDefn\n",
      "\n",
      "\n",
      "The Modigliani Mortality Adjusted Growth Patience Factor, GPFacLivMod=0.99747 satisfies the Mortality Adjusted Growth Impatience Condition (GICLivMod):\n",
      "    https://econ-ark.github.io/BufferStockTheory/BufferStockTheory3.html#GPFacLivModDefn\n",
      "\n",
      "    Therefore, a target level of the ratio of aggregate market resources to aggregate permanent income exists.    \n",
      "https://econ-ark.github.io/BufferStockTheory/BufferStockTheory3.html#GPFacLivModDefn\n",
      "\n",
      "\n",
      "The Finite Value of Autarky Factor, VAFac=0.99000 satisfies the Finite Value of Autarky Condition, VAFac < 1:\n",
      "    https://econ-ark.github.io/BufferStockTheory/BufferStockTheory3.html#FVAC\n",
      "\n",
      "    Therefore, a nondegenerate solution exists if the RIC also holds. (https://econ-ark.github.io/BufferStockTheory/BufferStockTheory3.html#FVAC)\n",
      "\n"
     ]
    }
   ],
   "source": [
    "# Create an infinite horizon agent with the default parametrization\n",
    "DiscFac = 0.99\n",
    "PShkStd = 0.10\n",
    "PShkVar = PShkStd**2\n",
    "PShk_add = PShkVar/2\n",
    "\n",
    "params = {\n",
    "    'LivPrb': [1.0],\n",
    "    'PermGroFac': [1.0],\n",
    "    'DiscFac': DiscFac,\n",
    "    'CRRA': 2.0,\n",
    "    'Rfree': 1 + PShkVar/2,\n",
    "    'PermShkStd': [PShkStd],\n",
    "    'PermShkCount': 5,\n",
    "    'TranShkStd': [0.1],\n",
    "    'TranShkCount': 5,\n",
    "    'UnempPrb': 0.05,\n",
    "}\n",
    "\n",
    "params_test = copy(dict_harmenberg)\n",
    "params_test.update(params)\n",
    "\n",
    "base = IndShockConsumerType(**params_test,quietly=True, messaging_level=logging.CRITICAL)\n",
    "base.cycles = 0  # Inf hor \n",
    "base.tolerance = base.tolerance/100 # Insist on accurate soln\n",
    "\n",
    "# Check conditions\n",
    "\n",
    "base.check_conditions(quietly=True, messaging_level=logging.DEBUG)"
   ]
  },
  {
   "cell_type": "code",
   "execution_count": null,
   "id": "8c841451-8b5c-42d1-8ab1-372c6f054644",
   "metadata": {},
   "outputs": [],
   "source": []
  }
 ],
 "metadata": {
  "jupytext": {
   "encoding": "# -*- coding: utf-8 -*-",
   "formats": "ipynb,py:percent"
  },
  "kernelspec": {
   "display_name": "Python 3",
   "language": "python",
   "name": "python3"
  },
  "language_info": {
   "codemirror_mode": {
    "name": "ipython",
    "version": 3
   },
   "file_extension": ".py",
   "mimetype": "text/x-python",
   "name": "python",
   "nbconvert_exporter": "python",
   "pygments_lexer": "ipython3",
   "version": "3.8.8"
  }
 },
 "nbformat": 4,
 "nbformat_minor": 5
}
